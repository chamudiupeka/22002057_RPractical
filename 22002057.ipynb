{
 "cells": [
  {
   "cell_type": "code",
   "execution_count": 1,
   "id": "78688009-69fc-4bef-b43a-a18a652836b3",
   "metadata": {},
   "outputs": [],
   "source": [
    "hello <- function() {\n",
    "print(\"Hello, GitHub!\")\n",
    "}"
   ]
  },
  {
   "cell_type": "code",
   "execution_count": null,
   "id": "b9cdfceb-1d75-45cc-9e49-93ead64fc2f4",
   "metadata": {},
   "outputs": [],
   "source": []
  }
 ],
 "metadata": {
  "kernelspec": {
   "display_name": "R",
   "language": "R",
   "name": "ir"
  },
  "language_info": {
   "codemirror_mode": "r",
   "file_extension": ".r",
   "mimetype": "text/x-r-source",
   "name": "R",
   "pygments_lexer": "r",
   "version": "4.4.2"
  }
 },
 "nbformat": 4,
 "nbformat_minor": 5
}
